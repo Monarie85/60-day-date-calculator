{
 "cells": [
  {
   "cell_type": "code",
   "execution_count": null,
   "id": "24fad37d-81fb-4f2d-bde6-cf17c8b2f8d2",
   "metadata": {},
   "outputs": [],
   "source": [
    "import tkinter as tk\n",
    "from datetime import datetime, timedelta\n",
    "from tkinter import messagebox\n",
    "\n",
    "def calculate_date():\n",
    "    input_date_str = date_var.get().strip()\n",
    "\n",
    "    if not input_date_str:\n",
    "        messagebox.showwarning(\"Input Error\", \"Please enter a date!\")\n",
    "        return\n",
    "\n",
    "    try:\n",
    "        input_date = datetime.strptime(input_date_str, \"%m-%d-%Y\")\n",
    "    except ValueError:\n",
    "        messagebox.showwarning(\"Date Format Error\", \"Please enter the date in the format MM-DD-YYYY!\")\n",
    "        return\n",
    "\n",
    "    future_date = input_date + timedelta(days=60)\n",
    "    formatted_date = future_date.strftime(\"%B %d, %Y\")\n",
    "    \n",
    "    result = f\"You entered: {input_date.strftime('%B %d, %Y')}.\\n60 days from that date will be {formatted_date}.\"\n",
    "    messagebox.showinfo(\"Result\", result)\n",
    "    \n",
    "    date_var.set(\"\")\n",
    "\n",
    "main = tk.Tk()\n",
    "main.title(\"60-Day Date Calculator\")\n",
    "main.geometry(\"400x250\")\n",
    "\n",
    "welcome_label = tk.Label(main, text=\"📅 60-Day Date Calculator\", \n",
    "                         font=(\"Arial\", 16, \"bold\"), fg=\"white\", bg=\"blue\", pady=10)\n",
    "welcome_label.pack(fill=\"x\")\n",
    "\n",
    "date_var = tk.StringVar()\n",
    "\n",
    "tk.Label(main, text=\"Enter a date (MM-DD-YYYY):\", font=(\"Arial\", 14)).pack(pady=5)\n",
    "tk.Entry(main, textvariable=date_var, font=(\"Arial\", 14), width=30).pack()\n",
    "\n",
    "calculate_button = tk.Button(main, text=\"Calculate\", font=(\"Arial\", 14), bg=\"green\", fg=\"black\", \n",
    "                             command=calculate_date)\n",
    "calculate_button.pack(pady=20)\n",
    "\n",
    "footer_label = tk.Label(main, text=\"Thank you for using Elaine's calculator app 🤓!\", font=(\"Arial\", 10), fg=\"gray\")\n",
    "footer_label.pack(side=\"bottom\", pady=10)\n",
    "\n",
    "main.mainloop()"
   ]
  }
 ],
 "metadata": {
  "kernelspec": {
   "display_name": "Python 3 (ipykernel)",
   "language": "python",
   "name": "python3"
  },
  "language_info": {
   "codemirror_mode": {
    "name": "ipython",
    "version": 3
   },
   "file_extension": ".py",
   "mimetype": "text/x-python",
   "name": "python",
   "nbconvert_exporter": "python",
   "pygments_lexer": "ipython3",
   "version": "3.12.4"
  }
 },
 "nbformat": 4,
 "nbformat_minor": 5
}
